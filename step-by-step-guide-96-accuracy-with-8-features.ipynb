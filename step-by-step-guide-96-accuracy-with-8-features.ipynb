{
 "cells": [
  {
   "cell_type": "markdown",
   "metadata": {
    "papermill": {
     "duration": 0.027162,
     "end_time": "2021-01-06T17:25:49.186385",
     "exception": false,
     "start_time": "2021-01-06T17:25:49.159223",
     "status": "completed"
    },
    "tags": []
   },
   "source": [
    "# Credit Cards - Predicition of churning customers"
   ]
  },
  {
   "cell_type": "markdown",
   "metadata": {
    "papermill": {
     "duration": 0.023786,
     "end_time": "2021-01-06T17:25:49.234577",
     "exception": false,
     "start_time": "2021-01-06T17:25:49.210791",
     "status": "completed"
    },
    "tags": []
   },
   "source": [
    "#### Step by step guide to create a Random Forest Classifier to predict the Customer Churning\n",
    "\n",
    "1. Data Understanding\n",
    "2. Data Preparation\n",
    "3. Feature Engineering\n",
    "4. Feature Extraction\n",
    "5. Training\n",
    "6. Evaluation"
   ]
  },
  {
   "cell_type": "markdown",
   "metadata": {
    "papermill": {
     "duration": 0.023933,
     "end_time": "2021-01-06T17:25:49.282939",
     "exception": false,
     "start_time": "2021-01-06T17:25:49.259006",
     "status": "completed"
    },
    "tags": []
   },
   "source": [
    "# Data Understanding"
   ]
  },
  {
   "cell_type": "markdown",
   "metadata": {
    "papermill": {
     "duration": 0.022712,
     "end_time": "2021-01-06T17:25:49.328659",
     "exception": false,
     "start_time": "2021-01-06T17:25:49.305947",
     "status": "completed"
    },
    "tags": []
   },
   "source": [
    "**Importing the necessary libraries**"
   ]
  },
  {
   "cell_type": "code",
   "execution_count": 1,
   "metadata": {
    "execution": {
     "iopub.execute_input": "2021-01-06T17:25:49.382150Z",
     "iopub.status.busy": "2021-01-06T17:25:49.381462Z",
     "iopub.status.idle": "2021-01-06T17:25:50.687694Z",
     "shell.execute_reply": "2021-01-06T17:25:50.686884Z"
    },
    "papermill": {
     "duration": 1.33604,
     "end_time": "2021-01-06T17:25:50.687873",
     "exception": false,
     "start_time": "2021-01-06T17:25:49.351833",
     "status": "completed"
    },
    "tags": []
   },
   "outputs": [],
   "source": [
    "import numpy as np\n",
    "import pandas as pd\n",
    "import matplotlib.pyplot as plt\n",
    "import seaborn as sns\n",
    "sns.set_style('whitegrid')"
   ]
  },
  {
   "cell_type": "markdown",
   "metadata": {
    "papermill": {
     "duration": 0.023323,
     "end_time": "2021-01-06T17:25:50.735478",
     "exception": false,
     "start_time": "2021-01-06T17:25:50.712155",
     "status": "completed"
    },
    "tags": []
   },
   "source": [
    "**Loading the dataset**"
   ]
  },
  {
   "cell_type": "code",
   "execution_count": 2,
   "metadata": {
    "execution": {
     "iopub.execute_input": "2021-01-06T17:25:50.799566Z",
     "iopub.status.busy": "2021-01-06T17:25:50.798754Z",
     "iopub.status.idle": "2021-01-06T17:25:50.943036Z",
     "shell.execute_reply": "2021-01-06T17:25:50.943559Z"
    },
    "papermill": {
     "duration": 0.184093,
     "end_time": "2021-01-06T17:25:50.943738",
     "exception": false,
     "start_time": "2021-01-06T17:25:50.759645",
     "status": "completed"
    },
    "tags": []
   },
   "outputs": [
    {
     "data": {
      "text/html": [
       "<div>\n",
       "<style scoped>\n",
       "    .dataframe tbody tr th:only-of-type {\n",
       "        vertical-align: middle;\n",
       "    }\n",
       "\n",
       "    .dataframe tbody tr th {\n",
       "        vertical-align: top;\n",
       "    }\n",
       "\n",
       "    .dataframe thead th {\n",
       "        text-align: right;\n",
       "    }\n",
       "</style>\n",
       "<table border=\"1\" class=\"dataframe\">\n",
       "  <thead>\n",
       "    <tr style=\"text-align: right;\">\n",
       "      <th></th>\n",
       "      <th>CLIENTNUM</th>\n",
       "      <th>Attrition_Flag</th>\n",
       "      <th>Customer_Age</th>\n",
       "      <th>Gender</th>\n",
       "      <th>Dependent_count</th>\n",
       "      <th>Education_Level</th>\n",
       "      <th>Marital_Status</th>\n",
       "      <th>Income_Category</th>\n",
       "      <th>Card_Category</th>\n",
       "      <th>Months_on_book</th>\n",
       "      <th>...</th>\n",
       "      <th>Months_Inactive_12_mon</th>\n",
       "      <th>Contacts_Count_12_mon</th>\n",
       "      <th>Credit_Limit</th>\n",
       "      <th>Total_Revolving_Bal</th>\n",
       "      <th>Avg_Open_To_Buy</th>\n",
       "      <th>Total_Amt_Chng_Q4_Q1</th>\n",
       "      <th>Total_Trans_Amt</th>\n",
       "      <th>Total_Trans_Ct</th>\n",
       "      <th>Total_Ct_Chng_Q4_Q1</th>\n",
       "      <th>Avg_Utilization_Ratio</th>\n",
       "    </tr>\n",
       "  </thead>\n",
       "  <tbody>\n",
       "    <tr>\n",
       "      <th>0</th>\n",
       "      <td>768805383</td>\n",
       "      <td>Existing Customer</td>\n",
       "      <td>45</td>\n",
       "      <td>M</td>\n",
       "      <td>3</td>\n",
       "      <td>High School</td>\n",
       "      <td>Married</td>\n",
       "      <td>$60K - $80K</td>\n",
       "      <td>Blue</td>\n",
       "      <td>39</td>\n",
       "      <td>...</td>\n",
       "      <td>1</td>\n",
       "      <td>3</td>\n",
       "      <td>12691.0</td>\n",
       "      <td>777</td>\n",
       "      <td>11914.0</td>\n",
       "      <td>1.335</td>\n",
       "      <td>1144</td>\n",
       "      <td>42</td>\n",
       "      <td>1.625</td>\n",
       "      <td>0.061</td>\n",
       "    </tr>\n",
       "    <tr>\n",
       "      <th>1</th>\n",
       "      <td>818770008</td>\n",
       "      <td>Existing Customer</td>\n",
       "      <td>49</td>\n",
       "      <td>F</td>\n",
       "      <td>5</td>\n",
       "      <td>Graduate</td>\n",
       "      <td>Single</td>\n",
       "      <td>Less than $40K</td>\n",
       "      <td>Blue</td>\n",
       "      <td>44</td>\n",
       "      <td>...</td>\n",
       "      <td>1</td>\n",
       "      <td>2</td>\n",
       "      <td>8256.0</td>\n",
       "      <td>864</td>\n",
       "      <td>7392.0</td>\n",
       "      <td>1.541</td>\n",
       "      <td>1291</td>\n",
       "      <td>33</td>\n",
       "      <td>3.714</td>\n",
       "      <td>0.105</td>\n",
       "    </tr>\n",
       "    <tr>\n",
       "      <th>2</th>\n",
       "      <td>713982108</td>\n",
       "      <td>Existing Customer</td>\n",
       "      <td>51</td>\n",
       "      <td>M</td>\n",
       "      <td>3</td>\n",
       "      <td>Graduate</td>\n",
       "      <td>Married</td>\n",
       "      <td>$80K - $120K</td>\n",
       "      <td>Blue</td>\n",
       "      <td>36</td>\n",
       "      <td>...</td>\n",
       "      <td>1</td>\n",
       "      <td>0</td>\n",
       "      <td>3418.0</td>\n",
       "      <td>0</td>\n",
       "      <td>3418.0</td>\n",
       "      <td>2.594</td>\n",
       "      <td>1887</td>\n",
       "      <td>20</td>\n",
       "      <td>2.333</td>\n",
       "      <td>0.000</td>\n",
       "    </tr>\n",
       "    <tr>\n",
       "      <th>3</th>\n",
       "      <td>769911858</td>\n",
       "      <td>Existing Customer</td>\n",
       "      <td>40</td>\n",
       "      <td>F</td>\n",
       "      <td>4</td>\n",
       "      <td>High School</td>\n",
       "      <td>Unknown</td>\n",
       "      <td>Less than $40K</td>\n",
       "      <td>Blue</td>\n",
       "      <td>34</td>\n",
       "      <td>...</td>\n",
       "      <td>4</td>\n",
       "      <td>1</td>\n",
       "      <td>3313.0</td>\n",
       "      <td>2517</td>\n",
       "      <td>796.0</td>\n",
       "      <td>1.405</td>\n",
       "      <td>1171</td>\n",
       "      <td>20</td>\n",
       "      <td>2.333</td>\n",
       "      <td>0.760</td>\n",
       "    </tr>\n",
       "    <tr>\n",
       "      <th>4</th>\n",
       "      <td>709106358</td>\n",
       "      <td>Existing Customer</td>\n",
       "      <td>40</td>\n",
       "      <td>M</td>\n",
       "      <td>3</td>\n",
       "      <td>Uneducated</td>\n",
       "      <td>Married</td>\n",
       "      <td>$60K - $80K</td>\n",
       "      <td>Blue</td>\n",
       "      <td>21</td>\n",
       "      <td>...</td>\n",
       "      <td>1</td>\n",
       "      <td>0</td>\n",
       "      <td>4716.0</td>\n",
       "      <td>0</td>\n",
       "      <td>4716.0</td>\n",
       "      <td>2.175</td>\n",
       "      <td>816</td>\n",
       "      <td>28</td>\n",
       "      <td>2.500</td>\n",
       "      <td>0.000</td>\n",
       "    </tr>\n",
       "  </tbody>\n",
       "</table>\n",
       "<p>5 rows × 21 columns</p>\n",
       "</div>"
      ],
      "text/plain": [
       "   CLIENTNUM     Attrition_Flag  Customer_Age Gender  Dependent_count  \\\n",
       "0  768805383  Existing Customer            45      M                3   \n",
       "1  818770008  Existing Customer            49      F                5   \n",
       "2  713982108  Existing Customer            51      M                3   \n",
       "3  769911858  Existing Customer            40      F                4   \n",
       "4  709106358  Existing Customer            40      M                3   \n",
       "\n",
       "  Education_Level Marital_Status Income_Category Card_Category  \\\n",
       "0     High School        Married     $60K - $80K          Blue   \n",
       "1        Graduate         Single  Less than $40K          Blue   \n",
       "2        Graduate        Married    $80K - $120K          Blue   \n",
       "3     High School        Unknown  Less than $40K          Blue   \n",
       "4      Uneducated        Married     $60K - $80K          Blue   \n",
       "\n",
       "   Months_on_book  ...  Months_Inactive_12_mon  Contacts_Count_12_mon  \\\n",
       "0              39  ...                       1                      3   \n",
       "1              44  ...                       1                      2   \n",
       "2              36  ...                       1                      0   \n",
       "3              34  ...                       4                      1   \n",
       "4              21  ...                       1                      0   \n",
       "\n",
       "   Credit_Limit  Total_Revolving_Bal  Avg_Open_To_Buy  Total_Amt_Chng_Q4_Q1  \\\n",
       "0       12691.0                  777          11914.0                 1.335   \n",
       "1        8256.0                  864           7392.0                 1.541   \n",
       "2        3418.0                    0           3418.0                 2.594   \n",
       "3        3313.0                 2517            796.0                 1.405   \n",
       "4        4716.0                    0           4716.0                 2.175   \n",
       "\n",
       "   Total_Trans_Amt  Total_Trans_Ct  Total_Ct_Chng_Q4_Q1  Avg_Utilization_Ratio  \n",
       "0             1144              42                1.625                  0.061  \n",
       "1             1291              33                3.714                  0.105  \n",
       "2             1887              20                2.333                  0.000  \n",
       "3             1171              20                2.333                  0.760  \n",
       "4              816              28                2.500                  0.000  \n",
       "\n",
       "[5 rows x 21 columns]"
      ]
     },
     "execution_count": 2,
     "metadata": {},
     "output_type": "execute_result"
    }
   ],
   "source": [
    "path = '/kaggle/input/credit-card-customers/'\n",
    "\n",
    "data = pd.read_csv(path + 'BankChurners.csv')\n",
    "\n",
    "# drop last two columns\n",
    "data = data.iloc[:, :-2]\n",
    "data.head()"
   ]
  },
  {
   "cell_type": "markdown",
   "metadata": {
    "papermill": {
     "duration": 0.025365,
     "end_time": "2021-01-06T17:25:50.994029",
     "exception": false,
     "start_time": "2021-01-06T17:25:50.968664",
     "status": "completed"
    },
    "tags": []
   },
   "source": [
    "**Preliminary Data Description**"
   ]
  },
  {
   "cell_type": "code",
   "execution_count": 3,
   "metadata": {
    "execution": {
     "iopub.execute_input": "2021-01-06T17:25:51.056753Z",
     "iopub.status.busy": "2021-01-06T17:25:51.056020Z",
     "iopub.status.idle": "2021-01-06T17:25:51.064139Z",
     "shell.execute_reply": "2021-01-06T17:25:51.064674Z"
    },
    "papermill": {
     "duration": 0.045887,
     "end_time": "2021-01-06T17:25:51.064868",
     "exception": false,
     "start_time": "2021-01-06T17:25:51.018981",
     "status": "completed"
    },
    "tags": []
   },
   "outputs": [
    {
     "name": "stdout",
     "output_type": "stream",
     "text": [
      "\n",
      "    No. of samples  : 10127\n",
      "    No. of features : 21\n",
      "    Missing values  : 0\n",
      "\n"
     ]
    }
   ],
   "source": [
    "print(f\"\"\"\n",
    "    No. of samples  : {data.shape[0]}\n",
    "    No. of features : {data.shape[1]}\n",
    "    Missing values  : {data.isnull().sum().sum()}\n",
    "\"\"\")"
   ]
  },
  {
   "cell_type": "markdown",
   "metadata": {
    "papermill": {
     "duration": 0.024501,
     "end_time": "2021-01-06T17:25:51.115750",
     "exception": false,
     "start_time": "2021-01-06T17:25:51.091249",
     "status": "completed"
    },
    "tags": []
   },
   "source": [
    "# Data Preparation"
   ]
  },
  {
   "cell_type": "markdown",
   "metadata": {
    "papermill": {
     "duration": 0.028935,
     "end_time": "2021-01-06T17:25:51.177098",
     "exception": false,
     "start_time": "2021-01-06T17:25:51.148163",
     "status": "completed"
    },
    "tags": []
   },
   "source": [
    "**Categorical features present in the dataset**"
   ]
  },
  {
   "cell_type": "code",
   "execution_count": 4,
   "metadata": {
    "execution": {
     "iopub.execute_input": "2021-01-06T17:25:51.245631Z",
     "iopub.status.busy": "2021-01-06T17:25:51.244362Z",
     "iopub.status.idle": "2021-01-06T17:25:51.255054Z",
     "shell.execute_reply": "2021-01-06T17:25:51.254406Z"
    },
    "papermill": {
     "duration": 0.05016,
     "end_time": "2021-01-06T17:25:51.255249",
     "exception": false,
     "start_time": "2021-01-06T17:25:51.205089",
     "status": "completed"
    },
    "tags": []
   },
   "outputs": [
    {
     "data": {
      "text/plain": [
       "['Attrition_Flag',\n",
       " 'Gender',\n",
       " 'Education_Level',\n",
       " 'Marital_Status',\n",
       " 'Income_Category',\n",
       " 'Card_Category']"
      ]
     },
     "execution_count": 4,
     "metadata": {},
     "output_type": "execute_result"
    }
   ],
   "source": [
    "data.select_dtypes(include='object').columns.to_list()"
   ]
  },
  {
   "cell_type": "markdown",
   "metadata": {
    "papermill": {
     "duration": 0.033948,
     "end_time": "2021-01-06T17:25:51.322095",
     "exception": false,
     "start_time": "2021-01-06T17:25:51.288147",
     "status": "completed"
    },
    "tags": []
   },
   "source": [
    "**Label Encoding the ordinal features**"
   ]
  },
  {
   "cell_type": "code",
   "execution_count": 5,
   "metadata": {
    "execution": {
     "iopub.execute_input": "2021-01-06T17:25:51.406374Z",
     "iopub.status.busy": "2021-01-06T17:25:51.382855Z",
     "iopub.status.idle": "2021-01-06T17:25:51.421861Z",
     "shell.execute_reply": "2021-01-06T17:25:51.421221Z"
    },
    "papermill": {
     "duration": 0.073475,
     "end_time": "2021-01-06T17:25:51.422035",
     "exception": false,
     "start_time": "2021-01-06T17:25:51.348560",
     "status": "completed"
    },
    "tags": []
   },
   "outputs": [],
   "source": [
    "data['Attrition_Flag'].replace({'Existing Customer': 0, 'Attrited Customer': 1}, inplace=True)\n",
    "\n",
    "data['Gender'].replace({'M': 1, 'F': 0})\n",
    "\n",
    "education_mapping = {\n",
    "    'Unknown': 0, 'Uneducated': 1, 'High School': 2, 'College': 3, \n",
    "    'Graduate': 4, 'Post-Graduate': 5, 'Doctorate': 6\n",
    "}\n",
    "data['Education_Level'].replace(education_mapping, inplace=True)\n",
    "\n",
    "income_mapping= {\n",
    "    'Less than $40K': 'less_than_40k', '$40K - $60K': '40k_60k', '$60K - $80K': '60k_80k', \n",
    "    '$80K - $120K': '80k_120k', '$120K +': 'greater_than_120k',\n",
    "}\n",
    "data['Income_Category'].replace(income_mapping, inplace=True)"
   ]
  },
  {
   "cell_type": "markdown",
   "metadata": {
    "papermill": {
     "duration": 0.025816,
     "end_time": "2021-01-06T17:25:51.474085",
     "exception": false,
     "start_time": "2021-01-06T17:25:51.448269",
     "status": "completed"
    },
    "tags": []
   },
   "source": [
    "**One-Hot encoding the nominal features**"
   ]
  },
  {
   "cell_type": "code",
   "execution_count": 6,
   "metadata": {
    "execution": {
     "iopub.execute_input": "2021-01-06T17:25:51.532446Z",
     "iopub.status.busy": "2021-01-06T17:25:51.531406Z",
     "iopub.status.idle": "2021-01-06T17:25:51.557131Z",
     "shell.execute_reply": "2021-01-06T17:25:51.555104Z"
    },
    "papermill": {
     "duration": 0.057158,
     "end_time": "2021-01-06T17:25:51.557315",
     "exception": false,
     "start_time": "2021-01-06T17:25:51.500157",
     "status": "completed"
    },
    "tags": []
   },
   "outputs": [],
   "source": [
    "data_dummies = pd.get_dummies(data)"
   ]
  },
  {
   "cell_type": "markdown",
   "metadata": {
    "papermill": {
     "duration": 0.025534,
     "end_time": "2021-01-06T17:25:51.608405",
     "exception": false,
     "start_time": "2021-01-06T17:25:51.582871",
     "status": "completed"
    },
    "tags": []
   },
   "source": [
    "**Drop the below features**\n",
    "\n",
    "1. `CLIENTNUM` - Since, it is an ID parameter and not relevant for our analysis\n",
    "2. We can drop one feature from each of the `one-hot encoded` features. In our case, we are dropping -\n",
    "    * `Gender_F`\n",
    "    * `Marital_Status_Unknown`\n",
    "    * `Income_Category_Unknown`"
   ]
  },
  {
   "cell_type": "code",
   "execution_count": 7,
   "metadata": {
    "execution": {
     "iopub.execute_input": "2021-01-06T17:25:51.670003Z",
     "iopub.status.busy": "2021-01-06T17:25:51.669293Z",
     "iopub.status.idle": "2021-01-06T17:25:51.678207Z",
     "shell.execute_reply": "2021-01-06T17:25:51.677354Z"
    },
    "papermill": {
     "duration": 0.043959,
     "end_time": "2021-01-06T17:25:51.678332",
     "exception": false,
     "start_time": "2021-01-06T17:25:51.634373",
     "status": "completed"
    },
    "tags": []
   },
   "outputs": [],
   "source": [
    "data.drop('CLIENTNUM', axis=1, inplace=True)\n",
    "\n",
    "data_dummies.drop(['Gender_F', 'Marital_Status_Unknown', 'Income_Category_Unknown'], axis=1, inplace=True)"
   ]
  },
  {
   "cell_type": "markdown",
   "metadata": {
    "papermill": {
     "duration": 0.025881,
     "end_time": "2021-01-06T17:25:51.730382",
     "exception": false,
     "start_time": "2021-01-06T17:25:51.704501",
     "status": "completed"
    },
    "tags": []
   },
   "source": [
    "**Dataset description after data preparation**"
   ]
  },
  {
   "cell_type": "code",
   "execution_count": 8,
   "metadata": {
    "execution": {
     "iopub.execute_input": "2021-01-06T17:25:51.793258Z",
     "iopub.status.busy": "2021-01-06T17:25:51.792520Z",
     "iopub.status.idle": "2021-01-06T17:25:51.799709Z",
     "shell.execute_reply": "2021-01-06T17:25:51.798999Z"
    },
    "papermill": {
     "duration": 0.043619,
     "end_time": "2021-01-06T17:25:51.799856",
     "exception": false,
     "start_time": "2021-01-06T17:25:51.756237",
     "status": "completed"
    },
    "tags": []
   },
   "outputs": [
    {
     "name": "stdout",
     "output_type": "stream",
     "text": [
      "\n",
      "    No. of samples  : 10127\n",
      "    No. of features : 20\n",
      "    Missing values  : 0\n",
      "\n"
     ]
    }
   ],
   "source": [
    "print(f\"\"\"\n",
    "    No. of samples  : {data.shape[0]}\n",
    "    No. of features : {data.shape[1]}\n",
    "    Missing values  : {data.isnull().sum().sum()}\n",
    "\"\"\")"
   ]
  },
  {
   "cell_type": "markdown",
   "metadata": {
    "papermill": {
     "duration": 0.02595,
     "end_time": "2021-01-06T17:25:51.853312",
     "exception": false,
     "start_time": "2021-01-06T17:25:51.827362",
     "status": "completed"
    },
    "tags": []
   },
   "source": [
    "# Feature Engineering"
   ]
  },
  {
   "cell_type": "markdown",
   "metadata": {
    "papermill": {
     "duration": 0.026618,
     "end_time": "2021-01-06T17:25:51.907590",
     "exception": false,
     "start_time": "2021-01-06T17:25:51.880972",
     "status": "completed"
    },
    "tags": []
   },
   "source": [
    "**Checking `skewness` of the numeric features**"
   ]
  },
  {
   "cell_type": "code",
   "execution_count": 9,
   "metadata": {
    "execution": {
     "iopub.execute_input": "2021-01-06T17:25:51.969389Z",
     "iopub.status.busy": "2021-01-06T17:25:51.968266Z",
     "iopub.status.idle": "2021-01-06T17:25:52.001802Z",
     "shell.execute_reply": "2021-01-06T17:25:52.001170Z"
    },
    "papermill": {
     "duration": 0.065867,
     "end_time": "2021-01-06T17:25:52.001982",
     "exception": false,
     "start_time": "2021-01-06T17:25:51.936115",
     "status": "completed"
    },
    "tags": []
   },
   "outputs": [
    {
     "data": {
      "text/html": [
       "<div>\n",
       "<style scoped>\n",
       "    .dataframe tbody tr th:only-of-type {\n",
       "        vertical-align: middle;\n",
       "    }\n",
       "\n",
       "    .dataframe tbody tr th {\n",
       "        vertical-align: top;\n",
       "    }\n",
       "\n",
       "    .dataframe thead th {\n",
       "        text-align: right;\n",
       "    }\n",
       "</style>\n",
       "<table border=\"1\" class=\"dataframe\">\n",
       "  <thead>\n",
       "    <tr style=\"text-align: right;\">\n",
       "      <th></th>\n",
       "      <th>Skewness</th>\n",
       "    </tr>\n",
       "  </thead>\n",
       "  <tbody>\n",
       "    <tr>\n",
       "      <th>Card_Category_Blue</th>\n",
       "      <td>-3.425241</td>\n",
       "    </tr>\n",
       "    <tr>\n",
       "      <th>Total_Relationship_Count</th>\n",
       "      <td>-0.162452</td>\n",
       "    </tr>\n",
       "    <tr>\n",
       "      <th>Total_Revolving_Bal</th>\n",
       "      <td>-0.148837</td>\n",
       "    </tr>\n",
       "    <tr>\n",
       "      <th>Months_on_book</th>\n",
       "      <td>-0.106565</td>\n",
       "    </tr>\n",
       "    <tr>\n",
       "      <th>Customer_Age</th>\n",
       "      <td>-0.033605</td>\n",
       "    </tr>\n",
       "  </tbody>\n",
       "</table>\n",
       "</div>"
      ],
      "text/plain": [
       "                          Skewness\n",
       "Card_Category_Blue       -3.425241\n",
       "Total_Relationship_Count -0.162452\n",
       "Total_Revolving_Bal      -0.148837\n",
       "Months_on_book           -0.106565\n",
       "Customer_Age             -0.033605"
      ]
     },
     "execution_count": 9,
     "metadata": {},
     "output_type": "execute_result"
    }
   ],
   "source": [
    "df_skew = pd.DataFrame(data_dummies.skew(), columns=['Skewness']).sort_values(by='Skewness')\n",
    "df_skew.head()"
   ]
  },
  {
   "cell_type": "markdown",
   "metadata": {
    "papermill": {
     "duration": 0.026995,
     "end_time": "2021-01-06T17:25:52.056236",
     "exception": false,
     "start_time": "2021-01-06T17:25:52.029241",
     "status": "completed"
    },
    "tags": []
   },
   "source": [
    "**Applying `log transformation` to the highly skewed features**"
   ]
  },
  {
   "cell_type": "code",
   "execution_count": 10,
   "metadata": {
    "execution": {
     "iopub.execute_input": "2021-01-06T17:25:52.121034Z",
     "iopub.status.busy": "2021-01-06T17:25:52.120156Z",
     "iopub.status.idle": "2021-01-06T17:25:52.188185Z",
     "shell.execute_reply": "2021-01-06T17:25:52.187587Z"
    },
    "papermill": {
     "duration": 0.105284,
     "end_time": "2021-01-06T17:25:52.188316",
     "exception": false,
     "start_time": "2021-01-06T17:25:52.083032",
     "status": "completed"
    },
    "tags": []
   },
   "outputs": [],
   "source": [
    "## Get all the numeric features in out dataset\n",
    "numeric_features = data_dummies.skew().index\n",
    "\n",
    "## We do not want to touch our target feature\n",
    "if 'Attrition_Flag' in numeric_features:\n",
    "    numeric_features = numeric_features.drop('Attrition_Flag')\n",
    "    \n",
    "## Getting all the skewed features (skew > 0.5 or skew < -0.5)\n",
    "skewed_features = data_dummies[numeric_features].skew()[np.abs(data_dummies[numeric_features].skew()) > 0.5].index\n",
    "\n",
    "## Performing log(1+x) transformation\n",
    "data_dummies[skewed_features] = np.log1p(data_dummies[skewed_features])"
   ]
  },
  {
   "cell_type": "markdown",
   "metadata": {
    "papermill": {
     "duration": 0.026696,
     "end_time": "2021-01-06T17:25:52.242363",
     "exception": false,
     "start_time": "2021-01-06T17:25:52.215667",
     "status": "completed"
    },
    "tags": []
   },
   "source": [
    "**Check the correlation among features using the heatmap**"
   ]
  },
  {
   "cell_type": "code",
   "execution_count": 11,
   "metadata": {
    "execution": {
     "iopub.execute_input": "2021-01-06T17:25:52.300983Z",
     "iopub.status.busy": "2021-01-06T17:25:52.299957Z",
     "iopub.status.idle": "2021-01-06T17:25:53.303076Z",
     "shell.execute_reply": "2021-01-06T17:25:53.303652Z"
    },
    "papermill": {
     "duration": 1.034205,
     "end_time": "2021-01-06T17:25:53.303830",
     "exception": false,
     "start_time": "2021-01-06T17:25:52.269625",
     "status": "completed"
    },
    "scrolled": true,
    "tags": []
   },
   "outputs": [
    {
     "data": {
      "image/png": "[encoded data removed]",
      "text/plain": [
       "<Figure size 720x576 with 2 Axes>"
      ]
     },
     "metadata": {},
     "output_type": "display_data"
    }
   ],
   "source": [
    "# Get the correlation dataframe\n",
    "df_corr = data.corr()\n",
    "\n",
    "# Plot the heatmap\n",
    "fig, ax = plt.subplots(figsize=(10, 8))\n",
    "mask    = np.triu(np.ones_like(df_corr, dtype=np.bool))\n",
    "sns.heatmap(\n",
    "    df_corr, mask=mask, annot=True, fmt=\".2f\", vmin = -1, vmax = 1,\n",
    "    cmap=sns.diverging_palette(150, 275, s=80, l=55, n=9)\n",
    ")\n",
    "plt.show()"
   ]
  },
  {
   "cell_type": "markdown",
   "metadata": {
    "papermill": {
     "duration": 0.030711,
     "end_time": "2021-01-06T17:25:53.365479",
     "exception": false,
     "start_time": "2021-01-06T17:25:53.334768",
     "status": "completed"
    },
    "tags": []
   },
   "source": [
    "# Feature Extraction"
   ]
  },
  {
   "cell_type": "code",
   "execution_count": 12,
   "metadata": {
    "execution": {
     "iopub.execute_input": "2021-01-06T17:25:53.435606Z",
     "iopub.status.busy": "2021-01-06T17:25:53.434833Z",
     "iopub.status.idle": "2021-01-06T17:25:53.611618Z",
     "shell.execute_reply": "2021-01-06T17:25:53.610966Z"
    },
    "papermill": {
     "duration": 0.212974,
     "end_time": "2021-01-06T17:25:53.611778",
     "exception": false,
     "start_time": "2021-01-06T17:25:53.398804",
     "status": "completed"
    },
    "tags": []
   },
   "outputs": [],
   "source": [
    "# Separate the independent and dependent variable\n",
    "X = data_dummies.drop(\"Attrition_Flag\", axis = 1)\n",
    "y = data_dummies[\"Attrition_Flag\"]\n",
    "\n",
    "# Get the training and testing pairs\n",
    "from sklearn.model_selection import train_test_split\n",
    "X_train, X_test, y_train, y_test = train_test_split(X, y, test_size=0.3)"
   ]
  },
  {
   "cell_type": "markdown",
   "metadata": {
    "papermill": {
     "duration": 0.031818,
     "end_time": "2021-01-06T17:25:53.674350",
     "exception": false,
     "start_time": "2021-01-06T17:25:53.642532",
     "status": "completed"
    },
    "tags": []
   },
   "source": [
    "**Chi Square test for feature extraction**\n",
    "\n",
    "[Reference link](https://machinelearningmastery.com/feature-selection-with-categorical-data/)"
   ]
  },
  {
   "cell_type": "code",
   "execution_count": 13,
   "metadata": {
    "execution": {
     "iopub.execute_input": "2021-01-06T17:25:53.746981Z",
     "iopub.status.busy": "2021-01-06T17:25:53.746199Z",
     "iopub.status.idle": "2021-01-06T17:25:54.435724Z",
     "shell.execute_reply": "2021-01-06T17:25:54.434577Z"
    },
    "papermill": {
     "duration": 0.729468,
     "end_time": "2021-01-06T17:25:54.435866",
     "exception": false,
     "start_time": "2021-01-06T17:25:53.706398",
     "status": "completed"
    },
    "tags": []
   },
   "outputs": [
    {
     "name": "stdout",
     "output_type": "stream",
     "text": [
      "Feature 0: 0.001804\n",
      "Feature 1: 2.290876\n",
      "Feature 2: 1.925850\n",
      "Feature 3: 2.703568\n",
      "Feature 4: 1.479657\n",
      "Feature 5: 121.643257\n",
      "Feature 6: 15.426591\n",
      "Feature 7: 156.905458\n",
      "Feature 8: 1.122552\n",
      "Feature 9: 283133.029580\n",
      "Feature 10: 0.511333\n",
      "Feature 11: 3.203404\n",
      "Feature 12: 19.158509\n",
      "Feature 13: 8400.319965\n",
      "Feature 14: 25.160248\n",
      "Feature 15: 50.887066\n",
      "Feature 16: 4.095562\n",
      "Feature 17: 0.046801\n",
      "Feature 18: 2.434682\n",
      "Feature 19: 1.851978\n",
      "Feature 20: 0.083759\n",
      "Feature 21: 3.955761\n",
      "Feature 22: 0.001324\n",
      "Feature 23: 1.235685\n",
      "Feature 24: 0.645130\n",
      "Feature 25: 0.004208\n",
      "Feature 26: 0.679307\n",
      "Feature 27: 1.865958\n",
      "Feature 28: 0.144238\n"
     ]
    },
    {
     "data": {
      "image/png": "[encoded data removed]",
      "text/plain": [
       "<Figure size 432x288 with 1 Axes>"
      ]
     },
     "metadata": {},
     "output_type": "display_data"
    }
   ],
   "source": [
    "from sklearn.feature_selection import SelectKBest\n",
    "from sklearn.feature_selection import chi2\n",
    "\n",
    "fs = SelectKBest(score_func=chi2, k='all')\n",
    "fs.fit(X_train, y_train)\n",
    "X_train_fs = fs.transform(X_train)\n",
    "X_test_fs = fs.transform(X_test)\n",
    "\n",
    "for i in range(len(fs.scores_)):\n",
    "    print('Feature %d: %f' % (i, fs.scores_[i]))\n",
    "# plot the scores\n",
    "plt.bar([i for i in range(len(fs.scores_))], fs.scores_)\n",
    "plt.show()"
   ]
  },
  {
   "cell_type": "markdown",
   "metadata": {
    "papermill": {
     "duration": 0.032155,
     "end_time": "2021-01-06T17:25:54.501008",
     "exception": false,
     "start_time": "2021-01-06T17:25:54.468853",
     "status": "completed"
    },
    "tags": []
   },
   "source": [
    "The above results give us the feature index value and their corresponding importance. Higher the value, more important the feature is."
   ]
  },
  {
   "cell_type": "code",
   "execution_count": 14,
   "metadata": {
    "execution": {
     "iopub.execute_input": "2021-01-06T17:25:54.575396Z",
     "iopub.status.busy": "2021-01-06T17:25:54.574645Z",
     "iopub.status.idle": "2021-01-06T17:25:54.578488Z",
     "shell.execute_reply": "2021-01-06T17:25:54.577875Z"
    },
    "papermill": {
     "duration": 0.044999,
     "end_time": "2021-01-06T17:25:54.578608",
     "exception": false,
     "start_time": "2021-01-06T17:25:54.533609",
     "status": "completed"
    },
    "tags": []
   },
   "outputs": [],
   "source": [
    "X_train = X_train.iloc[:, [5, 6, 7, 9, 12, 13, 14, 15]]\n",
    "X_test = X_test.iloc[:, [5, 6, 7, 9, 12, 13, 14, 15]]"
   ]
  },
  {
   "cell_type": "markdown",
   "metadata": {
    "papermill": {
     "duration": 0.031029,
     "end_time": "2021-01-06T17:25:54.640850",
     "exception": false,
     "start_time": "2021-01-06T17:25:54.609821",
     "status": "completed"
    },
    "tags": []
   },
   "source": [
    "# Training"
   ]
  },
  {
   "cell_type": "markdown",
   "metadata": {
    "papermill": {
     "duration": 0.030656,
     "end_time": "2021-01-06T17:25:54.702610",
     "exception": false,
     "start_time": "2021-01-06T17:25:54.671954",
     "status": "completed"
    },
    "tags": []
   },
   "source": [
    "**Using strong ensemble model classifier - Random Forest**"
   ]
  },
  {
   "cell_type": "code",
   "execution_count": 15,
   "metadata": {
    "execution": {
     "iopub.execute_input": "2021-01-06T17:25:54.771714Z",
     "iopub.status.busy": "2021-01-06T17:25:54.770806Z",
     "iopub.status.idle": "2021-01-06T17:25:55.035989Z",
     "shell.execute_reply": "2021-01-06T17:25:55.035398Z"
    },
    "papermill": {
     "duration": 0.302825,
     "end_time": "2021-01-06T17:25:55.036128",
     "exception": false,
     "start_time": "2021-01-06T17:25:54.733303",
     "status": "completed"
    },
    "tags": []
   },
   "outputs": [],
   "source": [
    "from sklearn.ensemble import RandomForestClassifier\n",
    "\n",
    "regressor = RandomForestClassifier(n_estimators=20, random_state=0)\n",
    "regressor.fit(X_train, y_train)\n",
    "y_pred = regressor.predict(X_test)"
   ]
  },
  {
   "cell_type": "markdown",
   "metadata": {
    "papermill": {
     "duration": 0.031111,
     "end_time": "2021-01-06T17:25:55.098766",
     "exception": false,
     "start_time": "2021-01-06T17:25:55.067655",
     "status": "completed"
    },
    "tags": []
   },
   "source": [
    "# Evaluation"
   ]
  },
  {
   "cell_type": "markdown",
   "metadata": {
    "papermill": {
     "duration": 0.030866,
     "end_time": "2021-01-06T17:25:55.161376",
     "exception": false,
     "start_time": "2021-01-06T17:25:55.130510",
     "status": "completed"
    },
    "tags": []
   },
   "source": [
    "**Confusion Matrix**"
   ]
  },
  {
   "cell_type": "code",
   "execution_count": 16,
   "metadata": {
    "execution": {
     "iopub.execute_input": "2021-01-06T17:25:55.232688Z",
     "iopub.status.busy": "2021-01-06T17:25:55.231867Z",
     "iopub.status.idle": "2021-01-06T17:25:55.447158Z",
     "shell.execute_reply": "2021-01-06T17:25:55.446416Z"
    },
    "papermill": {
     "duration": 0.254448,
     "end_time": "2021-01-06T17:25:55.447296",
     "exception": false,
     "start_time": "2021-01-06T17:25:55.192848",
     "status": "completed"
    },
    "tags": []
   },
   "outputs": [
    {
     "data": {
      "image/png": "[encoded data removed]",
      "text/plain": [
       "<Figure size 480x360 with 2 Axes>"
      ]
     },
     "metadata": {},
     "output_type": "display_data"
    }
   ],
   "source": [
    "from sklearn.metrics import confusion_matrix\n",
    "\n",
    "arr_cm = confusion_matrix(y_test, y_pred)\n",
    "df_cm = pd.DataFrame(arr_cm, index=[0, 1], columns=[0, 1])\n",
    "fig = plt.figure(figsize=(4,3), dpi=120)\n",
    "sns.heatmap(df_cm, annot=True, fmt=\"d\")\n",
    "plt.show()"
   ]
  },
  {
   "cell_type": "markdown",
   "metadata": {
    "papermill": {
     "duration": 0.03466,
     "end_time": "2021-01-06T17:25:55.516130",
     "exception": false,
     "start_time": "2021-01-06T17:25:55.481470",
     "status": "completed"
    },
    "tags": []
   },
   "source": [
    "**Classification Report**"
   ]
  },
  {
   "cell_type": "code",
   "execution_count": 17,
   "metadata": {
    "execution": {
     "iopub.execute_input": "2021-01-06T17:25:55.591036Z",
     "iopub.status.busy": "2021-01-06T17:25:55.590246Z",
     "iopub.status.idle": "2021-01-06T17:25:55.603650Z",
     "shell.execute_reply": "2021-01-06T17:25:55.602884Z"
    },
    "papermill": {
     "duration": 0.053629,
     "end_time": "2021-01-06T17:25:55.603787",
     "exception": false,
     "start_time": "2021-01-06T17:25:55.550158",
     "status": "completed"
    },
    "tags": []
   },
   "outputs": [
    {
     "name": "stdout",
     "output_type": "stream",
     "text": [
      "              precision    recall  f1-score   support\n",
      "\n",
      "           0       0.96      0.98      0.97      2557\n",
      "           1       0.89      0.78      0.83       482\n",
      "\n",
      "    accuracy                           0.95      3039\n",
      "   macro avg       0.93      0.88      0.90      3039\n",
      "weighted avg       0.95      0.95      0.95      3039\n",
      "\n"
     ]
    }
   ],
   "source": [
    "from sklearn.metrics import classification_report, confusion_matrix, accuracy_score\n",
    "\n",
    "print(classification_report(y_test, y_pred))"
   ]
  },
  {
   "cell_type": "markdown",
   "metadata": {
    "papermill": {
     "duration": 0.033021,
     "end_time": "2021-01-06T17:25:55.670093",
     "exception": false,
     "start_time": "2021-01-06T17:25:55.637072",
     "status": "completed"
    },
    "tags": []
   },
   "source": [
    "**Accuracy Score**"
   ]
  },
  {
   "cell_type": "code",
   "execution_count": 18,
   "metadata": {
    "execution": {
     "iopub.execute_input": "2021-01-06T17:25:55.744247Z",
     "iopub.status.busy": "2021-01-06T17:25:55.743146Z",
     "iopub.status.idle": "2021-01-06T17:25:55.749665Z",
     "shell.execute_reply": "2021-01-06T17:25:55.750244Z"
    },
    "papermill": {
     "duration": 0.04725,
     "end_time": "2021-01-06T17:25:55.750437",
     "exception": false,
     "start_time": "2021-01-06T17:25:55.703187",
     "status": "completed"
    },
    "tags": []
   },
   "outputs": [
    {
     "name": "stdout",
     "output_type": "stream",
     "text": [
      "Model Accuracy: 94.965 %\n"
     ]
    }
   ],
   "source": [
    "print('Model Accuracy:', round(accuracy_score(y_test, y_pred)*100, 3), '%')"
   ]
  }
 ],
 "metadata": {
  "kernelspec": {
   "display_name": "Python 3",
   "language": "python",
   "name": "python3"
  },
  "language_info": {
   "codemirror_mode": {
    "name": "ipython",
    "version": 3
   },
   "file_extension": ".py",
   "mimetype": "text/x-python",
   "name": "python",
   "nbconvert_exporter": "python",
   "pygments_lexer": "ipython3",
   "version": "3.7.6"
  },
  "papermill": {
   "duration": 12.58041,
   "end_time": "2021-01-06T17:25:55.894051",
   "environment_variables": {},
   "exception": null,
   "input_path": "__notebook__.ipynb",
   "output_path": "__notebook__.ipynb",
   "parameters": {},
   "start_time": "2021-01-06T17:25:43.313641",
   "version": "2.1.0"
  }
 },
 "nbformat": 4,
 "nbformat_minor": 4
}
